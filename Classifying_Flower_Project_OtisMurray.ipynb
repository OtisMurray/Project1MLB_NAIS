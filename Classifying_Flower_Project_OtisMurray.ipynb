{
  "nbformat": 4,
  "nbformat_minor": 0,
  "metadata": {
    "colab": {
      "provenance": [],
      "mount_file_id": "1cWlMasU02K2hvCjUx6fBKRSAr2FHOrmA",
      "authorship_tag": "ABX9TyPyUu1UqDNro0shZv1634nQ",
      "include_colab_link": true
    },
    "kernelspec": {
      "name": "python3",
      "display_name": "Python 3"
    },
    "language_info": {
      "name": "python"
    }
  },
  "cells": [
    {
      "cell_type": "markdown",
      "metadata": {
        "id": "view-in-github",
        "colab_type": "text"
      },
      "source": [
        "<a href=\"https://colab.research.google.com/github/OtisMurray/Activity10_MurrayOtis/blob/main/Classifying_Flower_Project_OtisMurray.ipynb\" target=\"_parent\"><img src=\"https://colab.research.google.com/assets/colab-badge.svg\" alt=\"Open In Colab\"/></a>"
      ]
    },
    {
      "cell_type": "code",
      "execution_count": 3,
      "metadata": {
        "colab": {
          "base_uri": "https://localhost:8080/"
        },
        "id": "B6LCd3H0llz_",
        "outputId": "124ea673-4b80-4a70-c296-e027e8c4d45d"
      },
      "outputs": [
        {
          "output_type": "stream",
          "name": "stdout",
          "text": [
            "Linear Regression R-squared: 0.6205652965527556\n",
            "SVM Accuracy: 1.0\n",
            "Random Forest Accuracy: 1.0\n",
            "KNN Accuracy: 1.0\n"
          ]
        }
      ],
      "source": [
        "# Load in dataset and import packages\n",
        "import pandas as pd\n",
        "from sklearn.model_selection import train_test_split\n",
        "from sklearn.linear_model import LinearRegression\n",
        "from sklearn.metrics import mean_squared_error, accuracy_score\n",
        "from sklearn.preprocessing import OneHotEncoder\n",
        "from sklearn.svm import SVC\n",
        "from sklearn.ensemble import RandomForestClassifier\n",
        "from sklearn.neighbors import KNeighborsClassifier\n",
        "\n",
        "# Load the dataset\n",
        "path = \"/content/drive/MyDrive/Dataset/Iris.csv\"\n",
        "df = pd.read_csv(path)\n",
        "\n",
        "# Separate into X and Y\n",
        "X = df[['SepalLengthCm', 'SepalWidthCm', 'PetalLengthCm', 'PetalWidthCm']]\n",
        "Y = df['Species']\n",
        "\n",
        "# Split into training and testing data (only do this once for all models)\n",
        "X_train, X_test, Y_train, Y_test = train_test_split(X, Y, test_size=0.2, random_state=42)\n",
        "\n",
        "## Attempt 1: Linear Regression (not ideal for classification)\n",
        "# Encode Y as one-hot vectors\n",
        "enc = OneHotEncoder(handle_unknown='ignore')\n",
        "Y_train_encoded = enc.fit_transform(Y_train.values.reshape(-1, 1)).toarray()\n",
        "Y_test_encoded = enc.transform(Y_test.values.reshape(-1, 1)).toarray()\n",
        "\n",
        "# Fit the linear regression model and check its score\n",
        "lm = LinearRegression()\n",
        "lm.fit(X_train, Y_train_encoded)\n",
        "\n",
        "# Evaluate the linear regression model using R-squared (not accuracy)\n",
        "print(\"Linear Regression R-squared:\", lm.score(X_test, Y_test_encoded))\n",
        "\n",
        "## Attempt 2: Support Vector Machine (SVM)\n",
        "# Create and train the SVC model\n",
        "svm_model = SVC(kernel=\"linear\")\n",
        "svm_model.fit(X_train, Y_train)\n",
        "\n",
        "# Make predictions and evaluate the model\n",
        "Y_pred_svm = svm_model.predict(X_test)\n",
        "svm_accuracy = accuracy_score(Y_test, Y_pred_svm)\n",
        "print(f\"SVM Accuracy: {svm_accuracy}\")\n",
        "\n",
        "## Attempt 3: Random Forest\n",
        "rf_model = RandomForestClassifier(n_estimators=100, random_state=42)\n",
        "rf_model.fit(X_train, Y_train)\n",
        "\n",
        "# Make predictions and evaluate the model\n",
        "rf_Y_pred = rf_model.predict(X_test)\n",
        "rf_accuracy = accuracy_score(Y_test, rf_Y_pred)\n",
        "print(f\"Random Forest Accuracy: {rf_accuracy}\")\n",
        "\n",
        "## Attempt 4: KNN\n",
        "knn_model = KNeighborsClassifier(n_neighbors=5)\n",
        "knn_model.fit(X_train, Y_train)\n",
        "\n",
        "# Make predictions and evaluate the model\n",
        "knn_Y_pred = knn_model.predict(X_test)\n",
        "knn_accuracy = accuracy_score(Y_test, knn_Y_pred)\n",
        "print(f\"KNN Accuracy: {knn_accuracy}\")"
      ]
    }
  ]
}